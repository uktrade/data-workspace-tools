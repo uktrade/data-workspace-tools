{
 "cells": [
  {
   "cell_type": "markdown",
   "metadata": {},
   "source": [
    "# JupyterLab Demos\n",
    "\n",
    "- Demo 1: Uploading Data to the platform via JupyterLab\n",
    "- Demo 2: Connecting to available databases on the data science platform\n",
    "- Demo 3: Extracting your output from the platform\n",
    "\n",
    "\n",
    "## Demo 1: Upload & Use Dataset\n"
   ]
  },
  {
   "cell_type": "markdown",
   "metadata": {},
   "source": [
    "#### Step 1: Download CSV file from https://www.uktradeinfo.com/Statistics/Pages/DataDownloads.aspx -> Current month -> Traders Files -> Importers\n",
    "\n",
    "To upload data you need to ensure it is stored somewhere. I.e. you can find it via file explorer, this includes sharepoint, onedrive and your local pc. For our demo we download data from the hmrc website and store it on our local machines. \n",
    "\n",
    "<img src=\"/templates/demo1s1.png\" alt=\"Drawing\" style=\"width: 600px;\" align=\"center\"/>\n",
    "\n",
    "#### Step 2: Unzip the CSV\n",
    "\n",
    "#### Step 3: Create data Folder (/data) & Step 4: Upload CSV in data folder\n",
    "\n",
    "After logging in to the platform via this link: https://data.trade.gov.uk/, the screen below should appear in your browser. On the far left it shows whatever files/folders you already have saved in your personal workspace. If you don't see this screen you should be able to click on the file browser tab.\n",
    "\n",
    "You can either upload a file straight into here or create a folder to store it in. We create a folder called ‘data’ to store it in.\n",
    "To do this click the button to create an untitled folder, this can easily be renamed by right clicking and selecting rename. Next you can navigate to the folder and upload the CSV from step 2 using the upload button.\n",
    "\n",
    "<img src=\"/templates/demo1s3-4.png\" alt=\"Drawing\" style=\"width: 600px;\" align=\"center\"/>\n",
    "\n",
    "#### Step 4: Load dataset in Dataframe\n"
   ]
  },
  {
   "cell_type": "code",
   "execution_count": 2,
   "metadata": {},
   "outputs": [],
   "source": [
    "import pandas as pd \n",
    "\n",
    "df = pd.read_csv('data/importers1906..txt', sep='\\t', header=-1, error_bad_lines=False, warn_bad_lines=False)"
   ]
  },
  {
   "cell_type": "markdown",
   "metadata": {},
   "source": [
    "#### Step 5: Check results"
   ]
  },
  {
   "cell_type": "code",
   "execution_count": 2,
   "metadata": {},
   "outputs": [
    {
     "data": {
      "text/html": [
       "<div>\n",
       "<style scoped>\n",
       "    .dataframe tbody tr th:only-of-type {\n",
       "        vertical-align: middle;\n",
       "    }\n",
       "\n",
       "    .dataframe tbody tr th {\n",
       "        vertical-align: top;\n",
       "    }\n",
       "\n",
       "    .dataframe thead th {\n",
       "        text-align: right;\n",
       "    }\n",
       "</style>\n",
       "<table border=\"1\" class=\"dataframe\">\n",
       "  <thead>\n",
       "    <tr style=\"text-align: right;\">\n",
       "      <th></th>\n",
       "      <th>0</th>\n",
       "      <th>1</th>\n",
       "      <th>2</th>\n",
       "      <th>3</th>\n",
       "      <th>4</th>\n",
       "      <th>5</th>\n",
       "      <th>6</th>\n",
       "      <th>7</th>\n",
       "      <th>8</th>\n",
       "      <th>9</th>\n",
       "      <th>...</th>\n",
       "      <th>49</th>\n",
       "      <th>50</th>\n",
       "      <th>51</th>\n",
       "      <th>52</th>\n",
       "      <th>53</th>\n",
       "      <th>54</th>\n",
       "      <th>55</th>\n",
       "      <th>56</th>\n",
       "      <th>57</th>\n",
       "      <th>58</th>\n",
       "    </tr>\n",
       "  </thead>\n",
       "  <tbody>\n",
       "    <tr>\n",
       "      <th>0</th>\n",
       "      <td>201906</td>\n",
       "      <td>1</td>\n",
       "      <td>MARK PRICE TEXTILES</td>\n",
       "      <td>''TWO HOOTS''</td>\n",
       "      <td>MELTON ROAD</td>\n",
       "      <td>HICKLING PASTURES</td>\n",
       "      <td>LEICESTER</td>\n",
       "      <td>NaN</td>\n",
       "      <td>LE14 3QG</td>\n",
       "      <td>58064000</td>\n",
       "      <td>...</td>\n",
       "      <td>NaN</td>\n",
       "      <td>NaN</td>\n",
       "      <td>NaN</td>\n",
       "      <td>NaN</td>\n",
       "      <td>NaN</td>\n",
       "      <td>NaN</td>\n",
       "      <td>NaN</td>\n",
       "      <td>NaN</td>\n",
       "      <td>NaN</td>\n",
       "      <td>NaN</td>\n",
       "    </tr>\n",
       "    <tr>\n",
       "      <th>1</th>\n",
       "      <td>201906</td>\n",
       "      <td>1</td>\n",
       "      <td>PETER GRAHAM WHITEHEAD</td>\n",
       "      <td>'A' HANGAR</td>\n",
       "      <td>SLEAP AIRFIELD</td>\n",
       "      <td>HARMER HILL</td>\n",
       "      <td>SHREWSBURY</td>\n",
       "      <td>NaN</td>\n",
       "      <td>SY4 3HE</td>\n",
       "      <td>84812010</td>\n",
       "      <td>...</td>\n",
       "      <td>NaN</td>\n",
       "      <td>NaN</td>\n",
       "      <td>NaN</td>\n",
       "      <td>NaN</td>\n",
       "      <td>NaN</td>\n",
       "      <td>NaN</td>\n",
       "      <td>NaN</td>\n",
       "      <td>NaN</td>\n",
       "      <td>NaN</td>\n",
       "      <td>NaN</td>\n",
       "    </tr>\n",
       "    <tr>\n",
       "      <th>2</th>\n",
       "      <td>201906</td>\n",
       "      <td>1</td>\n",
       "      <td>F D COPELAND &amp; SONS LTD</td>\n",
       "      <td>'COLANOL HOUSE'</td>\n",
       "      <td>5 WESTFIELD STREET</td>\n",
       "      <td>WOOLWICH</td>\n",
       "      <td>LONDON</td>\n",
       "      <td>NaN</td>\n",
       "      <td>SE18 5TL</td>\n",
       "      <td>29052990</td>\n",
       "      <td>...</td>\n",
       "      <td>NaN</td>\n",
       "      <td>NaN</td>\n",
       "      <td>NaN</td>\n",
       "      <td>NaN</td>\n",
       "      <td>NaN</td>\n",
       "      <td>NaN</td>\n",
       "      <td>NaN</td>\n",
       "      <td>NaN</td>\n",
       "      <td>NaN</td>\n",
       "      <td>NaN</td>\n",
       "    </tr>\n",
       "    <tr>\n",
       "      <th>3</th>\n",
       "      <td>201906</td>\n",
       "      <td>1</td>\n",
       "      <td>FESTIVE PRODUCTIONS LTD</td>\n",
       "      <td>'OTTERS BROOK'</td>\n",
       "      <td>TY COCH WAY</td>\n",
       "      <td>CWMBRAN</td>\n",
       "      <td>NaN</td>\n",
       "      <td>NaN</td>\n",
       "      <td>NP44 7XE</td>\n",
       "      <td>39199080</td>\n",
       "      <td>...</td>\n",
       "      <td>NaN</td>\n",
       "      <td>NaN</td>\n",
       "      <td>NaN</td>\n",
       "      <td>NaN</td>\n",
       "      <td>NaN</td>\n",
       "      <td>NaN</td>\n",
       "      <td>NaN</td>\n",
       "      <td>NaN</td>\n",
       "      <td>NaN</td>\n",
       "      <td>NaN</td>\n",
       "    </tr>\n",
       "    <tr>\n",
       "      <th>4</th>\n",
       "      <td>201906</td>\n",
       "      <td>1</td>\n",
       "      <td>MAHALINGAM PARTHIPAN</td>\n",
       "      <td>04 BEFORD ROAD</td>\n",
       "      <td>EASTHAM</td>\n",
       "      <td>LONDON</td>\n",
       "      <td>NaN</td>\n",
       "      <td>NaN</td>\n",
       "      <td>E6 2NN</td>\n",
       "      <td>3</td>\n",
       "      <td>...</td>\n",
       "      <td>NaN</td>\n",
       "      <td>NaN</td>\n",
       "      <td>NaN</td>\n",
       "      <td>NaN</td>\n",
       "      <td>NaN</td>\n",
       "      <td>NaN</td>\n",
       "      <td>NaN</td>\n",
       "      <td>NaN</td>\n",
       "      <td>NaN</td>\n",
       "      <td>NaN</td>\n",
       "    </tr>\n",
       "  </tbody>\n",
       "</table>\n",
       "<p>5 rows × 59 columns</p>\n",
       "</div>"
      ],
      "text/plain": [
       "       0   1                        2                3                   4   \\\n",
       "0  201906   1      MARK PRICE TEXTILES    ''TWO HOOTS''         MELTON ROAD   \n",
       "1  201906   1   PETER GRAHAM WHITEHEAD       'A' HANGAR      SLEAP AIRFIELD   \n",
       "2  201906   1  F D COPELAND & SONS LTD  'COLANOL HOUSE'  5 WESTFIELD STREET   \n",
       "3  201906   1  FESTIVE PRODUCTIONS LTD   'OTTERS BROOK'         TY COCH WAY   \n",
       "4  201906   1     MAHALINGAM PARTHIPAN   04 BEFORD ROAD             EASTHAM   \n",
       "\n",
       "                  5           6    7         8         9  ...  49  50  51  52  \\\n",
       "0  HICKLING PASTURES   LEICESTER  NaN  LE14 3QG  58064000 ... NaN NaN NaN NaN   \n",
       "1        HARMER HILL  SHREWSBURY  NaN   SY4 3HE  84812010 ... NaN NaN NaN NaN   \n",
       "2           WOOLWICH      LONDON  NaN  SE18 5TL  29052990 ... NaN NaN NaN NaN   \n",
       "3            CWMBRAN         NaN  NaN  NP44 7XE  39199080 ... NaN NaN NaN NaN   \n",
       "4             LONDON         NaN  NaN    E6 2NN         3 ... NaN NaN NaN NaN   \n",
       "\n",
       "   53  54  55  56  57  58  \n",
       "0 NaN NaN NaN NaN NaN NaN  \n",
       "1 NaN NaN NaN NaN NaN NaN  \n",
       "2 NaN NaN NaN NaN NaN NaN  \n",
       "3 NaN NaN NaN NaN NaN NaN  \n",
       "4 NaN NaN NaN NaN NaN NaN  \n",
       "\n",
       "[5 rows x 59 columns]"
      ]
     },
     "execution_count": 2,
     "metadata": {},
     "output_type": "execute_result"
    }
   ],
   "source": [
    "df.head()"
   ]
  },
  {
   "cell_type": "markdown",
   "metadata": {},
   "source": [
    "## Demo 2: Connect to the database\n",
    "\n",
    "Many of the datasets are very large. To avoid overloading the notebook's memory it is adviced to filter the data on the database level instead of loading everything in the notebooks and then manipulating the data. To do this filters, limit,  aggregation, etc can be used in SQL."
   ]
  },
  {
   "cell_type": "markdown",
   "metadata": {},
   "source": [
    "#### Step 1: Connect to database\n",
    "\n",
    "To start working with the DB, a database connection string needs to be loaded. This can be done by clicking the DB icon in JupyterHub.  \n",
    "    \n",
    "<img src=\"/templates/demo3s1.png\" alt=\"Drawing\" style=\"width: 800px;\"/>\n",
    "\n",
    "#### Step 2: Check connection \n",
    "\n",
    "The connection strings you have permissions for will shown in the output.\n",
    "        "
   ]
  },
  {
   "cell_type": "code",
   "execution_count": 5,
   "metadata": {},
   "outputs": [
    {
     "name": "stdout",
     "output_type": "stream",
     "text": [
      "You now have 1 database connection:\n",
      "  conn.datasets_1\n"
     ]
    }
   ],
   "source": [
    "from os import environ as __environ\n",
    "from collections import namedtuple as __namedtuple\n",
    "from psycopg2 import connect as __connect\n",
    "__dsns = dict((key.split(\"__\")[1], __connect(value)) for (key, value) in __environ.items() if key.startswith(\"DATABASE_DSN__\"))\n",
    "conn = __namedtuple(\"Connections\", __dsns.keys())(**__dsns)\n",
    "print(\"You now have {} database connection{}:\".format(len(__dsns.keys()), \"s\" if len(__dsns.keys()) > 1 else \"\"))\n",
    "for key in __dsns.keys():\n",
    "  print(f\"  conn.{key}\")\n",
    "del __dsns\n",
    "del __environ\n",
    "del __namedtuple\n",
    "del __connect"
   ]
  },
  {
   "cell_type": "markdown",
   "metadata": {},
   "source": [
    "#### Step 3: Retrieve data from the DB using SQL\n",
    "\n",
    "##### Step 3.1: Get all available tables\n",
    "\n",
    "In a database, tables are organised within schemas. A database may have one or more schemas, and each one of these may have many tables. In PostgreSQL, the default schema is called 'public', and we will use it in the following examples."
   ]
  },
  {
   "cell_type": "code",
   "execution_count": 6,
   "metadata": {},
   "outputs": [
    {
     "data": {
      "text/plain": [
       "[('ons.gdp_components.monthly', 'L1'),\n",
       " ('hmrc.smke19', 'L1'),\n",
       " ('companies_house.accounts', 'L1'),\n",
       " ('ons.trade_in_goods.part_2', 'L1'),\n",
       " ('ons.uk_economic_accounts.part_1.monthly', 'L1'),\n",
       " ('ons.uk_economic_accounts.part_4.quarterly', 'L1'),\n",
       " ('hmrc.smki19', 'L1'),\n",
       " ('ons.uk_economic_accounts.part_2.monthly', 'L1'),\n",
       " ('ons.uk_economic_accounts.part_3.yearly', 'L1'),\n",
       " ('ons', 'dictionary'),\n",
       " ('ons.national_accounts.monthly', 'L1'),\n",
       " ('ons.uk_economic_accounts.part_4.yearly', 'L1'),\n",
       " ('unctad.fdi.inward_flow_usd', 'L1'),\n",
       " ('ons.uk_economic_accounts.part_3.monthly', 'L1'),\n",
       " ('ons.uk_economic_accounts.part_5.quarterly', 'L1'),\n",
       " ('ons.uk_economic_accounts.part_6', 'L1'),\n",
       " ('ons.national_accounts.quarterly', 'L1'),\n",
       " ('ons.pink_book.part_4.yearly', 'L1'),\n",
       " ('ons.pink_book.part_2', 'L1'),\n",
       " ('ons.uk_economic_accounts.part_2.yearly', 'L1'),\n",
       " ('ons.pink_book.part_4', 'L1'),\n",
       " ('ons.trade_in_goods.part_1.quarterly', 'L1'),\n",
       " ('ons.uk_economic_accounts.part_1.quarterly', 'L1'),\n",
       " ('ons.uk_economic_accounts.part_3.quarterly', 'L1'),\n",
       " ('ons.gdp_components.yearly', 'L1'),\n",
       " ('ons.pink_book.part_2.quarterly', 'L1'),\n",
       " ('ons.trade_in_goods.part_2.quarterly', 'L1'),\n",
       " ('ons.national_accounts.yearly', 'L1'),\n",
       " ('ons.pink_book.part_1.quarterly', 'L1'),\n",
       " ('ons.pink_book.part_4.monthly', 'L1'),\n",
       " ('hmrc.importers.f1_0', 'L1'),\n",
       " ('hmrc.smkm46', 'L1'),\n",
       " ('ons.uk_economic_accounts.part_1', 'L1'),\n",
       " ('ons.trade_in_goods.part_1', 'L1'),\n",
       " ('hmrc.smkx46', 'L1'),\n",
       " ('unctad.fdi.outward_stock_usd', 'L1'),\n",
       " ('ons.balance_of_payments.quarterly', 'L1'),\n",
       " ('ons.trade_in_goods.part_2.monthly', 'L1'),\n",
       " ('ons.balance_of_payments.monthly', 'L1'),\n",
       " ('ons.balance_of_payments', 'L1'),\n",
       " ('ons.uk_economic_accounts.part_1.yearly', 'L1'),\n",
       " ('oecd.tiva', 'L1'),\n",
       " ('unctad.fdi.outward_flow_gdp', 'L1'),\n",
       " ('ons.pink_book.part_4.quarterly', 'L1'),\n",
       " ('ons.pink_book.part_1.yearly', 'L1'),\n",
       " ('ons.national_accounts', 'L1'),\n",
       " ('ons.pink_book.part_3.yearly', 'L1'),\n",
       " ('ons.uk_economic_accounts.part_5.monthly', 'L1'),\n",
       " ('ons.trade_in_goods.part_2.yearly', 'L1'),\n",
       " ('ons.uk_economic_accounts.part_4', 'L1'),\n",
       " ('ons.uk_economic_accounts.part_5.yearly', 'L1'),\n",
       " ('ons.pink_book.part_2.yearly', 'L1'),\n",
       " ('ons.pink_book.part_3', 'L1'),\n",
       " ('ons.pink_book.part_3.monthly', 'L1'),\n",
       " ('ons.pink_book.part_3.quarterly', 'L1'),\n",
       " ('unctad.fdi.inward_stock_gdp', 'L1'),\n",
       " ('ons.uk_economic_accounts.part_6.yearly', 'L1'),\n",
       " ('unctad.fdi.inward_flow_gdp', 'L1'),\n",
       " ('ons.uk_economic_accounts.part_4.monthly', 'L1'),\n",
       " ('ons.pink_book.part_1.monthly', 'L1'),\n",
       " ('ons.trade_in_goods.part_1.yearly', 'L1'),\n",
       " ('ons.trade_in_goods.part_1.monthly', 'L1'),\n",
       " ('ons.balance_of_payments.yearly', 'L1'),\n",
       " ('ons.uk_economic_accounts.part_3', 'L1'),\n",
       " ('ons.gdp_components', 'L1'),\n",
       " ('ons.uk_economic_accounts.part_6.quarterly', 'L1'),\n",
       " ('ons.uk_economic_accounts.part_6.monthly', 'L1'),\n",
       " ('unctad.fdi.outward_flow_usd', 'L1'),\n",
       " ('ons.uk_economic_accounts.part_2.quarterly', 'L1'),\n",
       " ('ons.uk_economic_accounts.part_2', 'L1'),\n",
       " ('ons.pink_book.part_2.monthly', 'L1'),\n",
       " ('unctad.fdi.outward_stock_gdp', 'L1'),\n",
       " ('ons.pink_book.part_1', 'L1'),\n",
       " ('companies_house.companies', 'L1'),\n",
       " ('worldbank.ease_doing_business', 'L1'),\n",
       " ('ons.uk_economic_accounts.part_5', 'L1'),\n",
       " ('worldbank.wits_ntm', 'L1'),\n",
       " ('unctad.fdi.inward_stock_usd', 'L1'),\n",
       " ('hmrc.exporters', 'L1'),\n",
       " ('ons.gdp_components.quarterly', 'L1')]"
      ]
     },
     "execution_count": 6,
     "metadata": {},
     "output_type": "execute_result"
    }
   ],
   "source": [
    "cur = conn.datasets_1.cursor()\n",
    "cur.execute('''\n",
    "     SELECT schemaname, tablename \n",
    "     FROM pg_catalog.pg_tables\n",
    "     WHERE schemaname != all(array['pg_catalog', 'information_schema']);\n",
    "''')\n",
    "rows = cur.fetchall()\n",
    "rows"
   ]
  },
  {
   "cell_type": "markdown",
   "metadata": {},
   "source": [
    "##### Step 3.2: Check columns of a table"
   ]
  },
  {
   "cell_type": "code",
   "execution_count": 7,
   "metadata": {},
   "outputs": [
    {
     "data": {
      "text/plain": [
       "[('source_country', 'character varying'),\n",
       " ('source_industry', 'character varying'),\n",
       " ('exporting_country', 'character varying'),\n",
       " ('exporting_industry', 'character varying'),\n",
       " ('value', 'real'),\n",
       " ('source_country_eu', 'boolean'),\n",
       " ('exporting_country_eu', 'boolean'),\n",
       " ('value_world', 'real'),\n",
       " ('year', 'character varying'),\n",
       " ('id', 'integer')]"
      ]
     },
     "execution_count": 7,
     "metadata": {},
     "output_type": "execute_result"
    }
   ],
   "source": [
    "cur.execute('''\n",
    "    SELECT column_name, data_type\n",
    "    FROM information_schema.columns \n",
    "    WHERE table_schema = 'oecd.tiva'    \n",
    "    AND table_name = 'L1';\n",
    "''')\n",
    "rows = cur.fetchall()\n",
    "rows"
   ]
  },
  {
   "cell_type": "markdown",
   "metadata": {},
   "source": [
    "##### Step 3.3.: Checkout a few rows in a table\n",
    "\n",
    "When a query is executed, the data will be stored in memory. Many datasets have more data then is suitable to load into memory. Loading all data in this case will crash JupyterHub. You can limit the number of results to retrieve in manageable chunck by using the LIMIT and OFFSET functionality."
   ]
  },
  {
   "cell_type": "code",
   "execution_count": 8,
   "metadata": {},
   "outputs": [
    {
     "name": "stdout",
     "output_type": "stream",
     "text": [
      "('Croatia', 'C60T63', 'Norway', 'C28', 0.023, True, False, 26.248, '2004', 33336480)\n",
      "('Indonesia', 'C60T63', 'Norway', 'C28', 0.01, False, False, 26.248, '2004', 33336481)\n",
      "('India', 'C60T63', 'Norway', 'C28', 0.074, False, False, 26.248, '2004', 33336482)\n",
      "('Cambodia', 'C60T63', 'Norway', 'C28', 0.001, False, False, 26.248, '2004', 33336483)\n",
      "('Lithuania', 'C60T63', 'Norway', 'C28', 0.055, True, False, 26.248, '2004', 33336484)\n",
      "('Malta', 'C60T63', 'Norway', 'C28', 0.008, True, False, 26.248, '2004', 33336485)\n",
      "('Malaysia', 'C60T63', 'Norway', 'C28', 0.058, False, False, 26.248, '2004', 33336486)\n",
      "('Morocco', 'C60T63', 'Norway', 'C28', 0.02, False, False, 26.248, '2004', 33336487)\n",
      "('Peru', 'C60T63', 'Norway', 'C28', 0.019, False, False, 26.248, '2004', 33336488)\n",
      "('Philippines', 'C60T63', 'Norway', 'C28', 0.005, False, False, 26.248, '2004', 33336489)\n"
     ]
    },
    {
     "data": {
      "text/plain": [
       "[None, None, None, None, None, None, None, None, None, None]"
      ]
     },
     "execution_count": 8,
     "metadata": {},
     "output_type": "execute_result"
    }
   ],
   "source": [
    "cur.execute('''\n",
    "    SELECT *\n",
    "     FROM \"oecd.tiva\".\"L1\"\n",
    "     LIMIT 10;\n",
    "''')\n",
    "rows = cur.fetchall()\n",
    "[print(row) for row in rows]"
   ]
  },
  {
   "cell_type": "markdown",
   "metadata": {},
   "source": [
    "##### Step 3.4: Checkout specific columns in a table\n"
   ]
  },
  {
   "cell_type": "code",
   "execution_count": 9,
   "metadata": {},
   "outputs": [
    {
     "name": "stdout",
     "output_type": "stream",
     "text": [
      "('2004', 'Croatia', 'Norway', 26.248)\n",
      "('2004', 'Indonesia', 'Norway', 26.248)\n",
      "('2004', 'India', 'Norway', 26.248)\n",
      "('2004', 'Cambodia', 'Norway', 26.248)\n",
      "('2004', 'Lithuania', 'Norway', 26.248)\n",
      "('2004', 'Malta', 'Norway', 26.248)\n",
      "('2004', 'Malaysia', 'Norway', 26.248)\n",
      "('2004', 'Morocco', 'Norway', 26.248)\n",
      "('2004', 'Peru', 'Norway', 26.248)\n",
      "('2004', 'Philippines', 'Norway', 26.248)\n"
     ]
    },
    {
     "data": {
      "text/plain": [
       "[None, None, None, None, None, None, None, None, None, None]"
      ]
     },
     "execution_count": 9,
     "metadata": {},
     "output_type": "execute_result"
    }
   ],
   "source": [
    "cur.execute('''\n",
    "    SELECT year, source_country, exporting_country, value_world  \n",
    "     FROM \"oecd.tiva\".\"L1\"\n",
    "     LIMIT 10;\n",
    "''')\n",
    "rows = cur.fetchall()\n",
    "[print(row) for row in rows]"
   ]
  },
  {
   "cell_type": "markdown",
   "metadata": {},
   "source": [
    "##### Step 3.5: Count results"
   ]
  },
  {
   "cell_type": "code",
   "execution_count": 10,
   "metadata": {},
   "outputs": [
    {
     "data": {
      "text/plain": [
       "[(55430983, 65)]"
      ]
     },
     "execution_count": 10,
     "metadata": {},
     "output_type": "execute_result"
    }
   ],
   "source": [
    "cur.execute('''\n",
    "    SELECT count(*) as total_rows,\n",
    "    count(distinct(source_country)) as number_countries\n",
    "    FROM \"oecd.tiva\".\"L1\";\n",
    "''')\n",
    "rows = cur.fetchall()\n",
    "rows"
   ]
  },
  {
   "cell_type": "markdown",
   "metadata": {},
   "source": [
    "##### Step 3.6: Filtering results (WHERE)"
   ]
  },
  {
   "cell_type": "code",
   "execution_count": 11,
   "metadata": {},
   "outputs": [
    {
     "data": {
      "text/plain": [
       "(Column(name='year', type_code=1043, display_size=None, internal_size=-1, precision=None, scale=None, null_ok=None),\n",
       " Column(name='source_country', type_code=1043, display_size=None, internal_size=255, precision=None, scale=None, null_ok=None),\n",
       " Column(name='exporting_country', type_code=1043, display_size=None, internal_size=255, precision=None, scale=None, null_ok=None),\n",
       " Column(name='value_world', type_code=700, display_size=None, internal_size=4, precision=None, scale=None, null_ok=None))"
      ]
     },
     "execution_count": 11,
     "metadata": {},
     "output_type": "execute_result"
    }
   ],
   "source": [
    "cur.execute('''\n",
    "    SELECT year, source_country, exporting_country, value_world  \n",
    "    FROM \"oecd.tiva\".\"L1\"\n",
    "    WHERE exporting_country = 'United Kingdom' LIMIT 10;\n",
    "''')\n",
    "cur.description"
   ]
  },
  {
   "cell_type": "code",
   "execution_count": 12,
   "metadata": {},
   "outputs": [
    {
     "name": "stdout",
     "output_type": "stream",
     "text": [
      "('1997', 'Australia', 'United Kingdom', 357.234)\n",
      "('1997', 'Austria', 'United Kingdom', 357.234)\n",
      "('1997', 'Belgium', 'United Kingdom', 357.234)\n",
      "('1997', 'Australia', 'United Kingdom', 78.742)\n",
      "('1997', 'Austria', 'United Kingdom', 78.742)\n",
      "('1997', 'Australia', 'United Kingdom', 30.144)\n",
      "('1997', 'Austria', 'United Kingdom', 30.144)\n",
      "('1997', 'Belgium', 'United Kingdom', 30.144)\n",
      "('1997', 'Australia', 'United Kingdom', 26.65)\n",
      "('1997', 'Australia', 'United Kingdom', 303.863)\n"
     ]
    },
    {
     "data": {
      "text/plain": [
       "[None, None, None, None, None, None, None, None, None, None]"
      ]
     },
     "execution_count": 12,
     "metadata": {},
     "output_type": "execute_result"
    }
   ],
   "source": [
    "rows = cur.fetchall()\n",
    "[print(row) for row in rows]"
   ]
  },
  {
   "cell_type": "markdown",
   "metadata": {},
   "source": [
    "##### Step 3.7: Aggregating results (GROUP BY)"
   ]
  },
  {
   "cell_type": "code",
   "execution_count": 14,
   "metadata": {},
   "outputs": [
    {
     "name": "stdout",
     "output_type": "stream",
     "text": [
      "('Argentina', 67806300.0, 4196.97791127401, 16156)\n",
      "('Australia', 67872000.0, 3863.83616739977, 17566)\n",
      "('Austria', 67869600.0, 3865.90369785533, 17556)\n",
      "('Belgium', 67872500.0, 3850.93916037116, 17625)\n",
      "('Brazil', 67867300.0, 3920.70062874368, 17310)\n",
      "('Brunei', 64977400.0, 8740.56699863526, 7434)\n",
      "('Bulgaria', 67780000.0, 4323.80391282818, 15676)\n",
      "('Cambodia', 66006800.0, 7594.85450705648, 8691)\n",
      "('Canada', 67873200.0, 3851.84321125545, 17621)\n",
      "('Chile', 67838600.0, 4184.46784009219, 16212)\n"
     ]
    },
    {
     "data": {
      "text/plain": [
       "[None, None, None, None, None, None, None, None, None, None]"
      ]
     },
     "execution_count": 14,
     "metadata": {},
     "output_type": "execute_result"
    }
   ],
   "source": [
    "cur.execute('''\n",
    "    SELECT source_country, \n",
    "    sum(value_world) as total_value, avg(value_world) as average_value, count(value_world) as number_rows  \n",
    "     FROM \"oecd.tiva\".\"L1\"\n",
    "     WHERE exporting_country = 'United Kingdom'\n",
    "     GROUP BY source_country\n",
    "     LIMIT 10;\n",
    "''')\n",
    "rows = cur.fetchall()\n",
    "[print(row) for row in rows]"
   ]
  },
  {
   "cell_type": "markdown",
   "metadata": {},
   "source": [
    "##### Step 3.8: Ordering results (ORDER BY)"
   ]
  },
  {
   "cell_type": "code",
   "execution_count": 13,
   "metadata": {},
   "outputs": [
    {
     "name": "stdout",
     "output_type": "stream",
     "text": [
      "('World', 67873300.0, 3843.342555183, 17660)\n",
      "('United Kingdom', 55210600.0, 3126.31901008102, 17660)\n",
      "('United States', 1706020.0, 96.6694643175205, 17648)\n",
      "('Germany', 1578450.0, 89.4408756189047, 17648)\n",
      "('France', 929635.0, 52.6764776821893, 17648)\n",
      "('Norway', 859274.0, 48.8530137042344, 17589)\n",
      "('Rest of world', 727219.0, 41.2771693318509, 17618)\n",
      "('Japan', 595814.0, 33.7916924684029, 17632)\n"
     ]
    },
    {
     "data": {
      "text/plain": [
       "[None, None, None, None, None, None, None, None]"
      ]
     },
     "execution_count": 13,
     "metadata": {},
     "output_type": "execute_result"
    }
   ],
   "source": [
    "cur.execute('''\n",
    "    SELECT source_country, \n",
    "      sum(value) as total_value, \n",
    "      avg(value) as average_value,\n",
    "      count(value) as number_rows  \n",
    "     FROM \"oecd.tiva\".\"L1\"\n",
    "     WHERE exporting_country = 'United Kingdom'\n",
    "     GROUP BY source_country\n",
    "     ORDER BY sum(value) desc\n",
    "     LIMIT 8;\n",
    "''')\n",
    "rows = cur.fetchall()\n",
    "[print(row) for row in rows]"
   ]
  },
  {
   "cell_type": "markdown",
   "metadata": {},
   "source": [
    "#### Step 4: Plot results\n",
    "\n",
    "##### Step 4.1: Query DB"
   ]
  },
  {
   "cell_type": "code",
   "execution_count": 15,
   "metadata": {},
   "outputs": [
    {
     "data": {
      "text/html": [
       "<div>\n",
       "<style scoped>\n",
       "    .dataframe tbody tr th:only-of-type {\n",
       "        vertical-align: middle;\n",
       "    }\n",
       "\n",
       "    .dataframe tbody tr th {\n",
       "        vertical-align: top;\n",
       "    }\n",
       "\n",
       "    .dataframe thead th {\n",
       "        text-align: right;\n",
       "    }\n",
       "</style>\n",
       "<table border=\"1\" class=\"dataframe\">\n",
       "  <thead>\n",
       "    <tr style=\"text-align: right;\">\n",
       "      <th></th>\n",
       "      <th>source_country</th>\n",
       "      <th>year</th>\n",
       "    </tr>\n",
       "    <tr>\n",
       "      <th>exporting_country</th>\n",
       "      <th></th>\n",
       "      <th></th>\n",
       "    </tr>\n",
       "  </thead>\n",
       "  <tbody>\n",
       "    <tr>\n",
       "      <th>Malta</th>\n",
       "      <td>United Kingdom</td>\n",
       "      <td>2333.70</td>\n",
       "    </tr>\n",
       "    <tr>\n",
       "      <th>Estonia</th>\n",
       "      <td>United Kingdom</td>\n",
       "      <td>1436.44</td>\n",
       "    </tr>\n",
       "    <tr>\n",
       "      <th>Austria</th>\n",
       "      <td>United Kingdom</td>\n",
       "      <td>10899.30</td>\n",
       "    </tr>\n",
       "    <tr>\n",
       "      <th>Sweden</th>\n",
       "      <td>United Kingdom</td>\n",
       "      <td>37097.00</td>\n",
       "    </tr>\n",
       "    <tr>\n",
       "      <th>Czech Republic</th>\n",
       "      <td>United Kingdom</td>\n",
       "      <td>16900.50</td>\n",
       "    </tr>\n",
       "  </tbody>\n",
       "</table>\n",
       "</div>"
      ],
      "text/plain": [
       "                   source_country      year\n",
       "exporting_country                          \n",
       "Malta              United Kingdom   2333.70\n",
       "Estonia            United Kingdom   1436.44\n",
       "Austria            United Kingdom  10899.30\n",
       "Sweden             United Kingdom  37097.00\n",
       "Czech Republic     United Kingdom  16900.50"
      ]
     },
     "execution_count": 15,
     "metadata": {},
     "output_type": "execute_result"
    }
   ],
   "source": [
    "import pandas as pd\n",
    "\n",
    "cur.execute('''\n",
    "    SELECT exporting_country, source_country, sum(value) \n",
    "    from \"oecd.tiva\".\"L1\" where year='2011' \n",
    "        and source_country='United Kingdom' \n",
    "        and exporting_country_eu='True' and exporting_country != 'United Kingdom' \n",
    "    group by exporting_country, source_country\n",
    "''')\n",
    "rows = cur.fetchall()\n",
    "df = pd.DataFrame(rows, columns=['exporting_country', 'source_country', 'year'])\n",
    "df = df.set_index('exporting_country')\n",
    "df.head()"
   ]
  },
  {
   "cell_type": "markdown",
   "metadata": {},
   "source": [
    "##### Step 4.2: Plotting results "
   ]
  },
  {
   "cell_type": "markdown",
   "metadata": {},
   "source": [
    "Step 4.2.1: Basic bar chart"
   ]
  },
  {
   "cell_type": "code",
   "execution_count": 17,
   "metadata": {},
   "outputs": [
    {
     "data": {
      "text/plain": [
       "<matplotlib.axes._subplots.AxesSubplot at 0x7f509624cd30>"
      ]
     },
     "execution_count": 17,
     "metadata": {},
     "output_type": "execute_result"
    },
    {
     "data": {
      "image/png": "[encoded data removed]",
      "text/plain": [
       "<Figure size 432x288 with 1 Axes>"
      ]
     },
     "metadata": {
      "needs_background": "light"
     },
     "output_type": "display_data"
    }
   ],
   "source": [
    "df.plot.bar()"
   ]
  },
  {
   "cell_type": "markdown",
   "metadata": {},
   "source": [
    "##### Step 4.2.2: Seaborn chart"
   ]
  },
  {
   "cell_type": "code",
   "execution_count": 12,
   "metadata": {},
   "outputs": [
    {
     "data": {
      "image/png": "[encoded data removed]",
      "text/plain": [
       "<Figure size 1152x648 with 1 Axes>"
      ]
     },
     "metadata": {},
     "output_type": "display_data"
    }
   ],
   "source": [
    "import pandas as pd\n",
    "import seaborn as snb\n",
    "snb.set(rc={'figure.figsize':(16,9)})\n",
    "\n",
    "cur.execute('''\n",
    "    SELECT exporting_country, year, sum(value) as total_export_value \n",
    "    from \"oecd.tiva\".\"L1\"\n",
    "    where year > '1990' \n",
    "    and exporting_country = any('{France, Germany, Italy, Spain}')\n",
    "    and source_country = 'United Kingdom'\n",
    "    group by exporting_country, year\n",
    "    order by year\n",
    "''')\n",
    "rows = cur.fetchall()\n",
    "df = pd.DataFrame(rows, columns=['Exporting Country', 'Year', 'Total Export Value'])\n",
    "ax = snb.lineplot(x=\"Year\", y=\"Total Export Value\", hue=\"Exporting Country\", data=df)"
   ]
  },
  {
   "cell_type": "markdown",
   "metadata": {},
   "source": [
    "## Demo 3: Export data to local machine"
   ]
  },
  {
   "cell_type": "markdown",
   "metadata": {},
   "source": [
    "#### Step 1: Modify dataframe to exclude empty columns \n",
    "\n",
    "This demo starts from the dataframe with HMRC exporter data created in demo 1 and explains how work can be exported outside JupyterHub to your local machine."
   ]
  },
  {
   "cell_type": "code",
   "execution_count": 3,
   "metadata": {},
   "outputs": [
    {
     "data": {
      "text/html": [
       "<div>\n",
       "<style scoped>\n",
       "    .dataframe tbody tr th:only-of-type {\n",
       "        vertical-align: middle;\n",
       "    }\n",
       "\n",
       "    .dataframe tbody tr th {\n",
       "        vertical-align: top;\n",
       "    }\n",
       "\n",
       "    .dataframe thead th {\n",
       "        text-align: right;\n",
       "    }\n",
       "</style>\n",
       "<table border=\"1\" class=\"dataframe\">\n",
       "  <thead>\n",
       "    <tr style=\"text-align: right;\">\n",
       "      <th></th>\n",
       "      <th>0</th>\n",
       "      <th>1</th>\n",
       "      <th>2</th>\n",
       "      <th>3</th>\n",
       "      <th>4</th>\n",
       "      <th>5</th>\n",
       "      <th>6</th>\n",
       "      <th>7</th>\n",
       "      <th>8</th>\n",
       "      <th>9</th>\n",
       "    </tr>\n",
       "  </thead>\n",
       "  <tbody>\n",
       "    <tr>\n",
       "      <th>0</th>\n",
       "      <td>201906</td>\n",
       "      <td>1</td>\n",
       "      <td>MARK PRICE TEXTILES</td>\n",
       "      <td>''TWO HOOTS''</td>\n",
       "      <td>MELTON ROAD</td>\n",
       "      <td>HICKLING PASTURES</td>\n",
       "      <td>LEICESTER</td>\n",
       "      <td>NaN</td>\n",
       "      <td>LE14 3QG</td>\n",
       "      <td>58064000</td>\n",
       "    </tr>\n",
       "    <tr>\n",
       "      <th>1</th>\n",
       "      <td>201906</td>\n",
       "      <td>1</td>\n",
       "      <td>PETER GRAHAM WHITEHEAD</td>\n",
       "      <td>'A' HANGAR</td>\n",
       "      <td>SLEAP AIRFIELD</td>\n",
       "      <td>HARMER HILL</td>\n",
       "      <td>SHREWSBURY</td>\n",
       "      <td>NaN</td>\n",
       "      <td>SY4 3HE</td>\n",
       "      <td>84812010</td>\n",
       "    </tr>\n",
       "    <tr>\n",
       "      <th>2</th>\n",
       "      <td>201906</td>\n",
       "      <td>1</td>\n",
       "      <td>F D COPELAND &amp; SONS LTD</td>\n",
       "      <td>'COLANOL HOUSE'</td>\n",
       "      <td>5 WESTFIELD STREET</td>\n",
       "      <td>WOOLWICH</td>\n",
       "      <td>LONDON</td>\n",
       "      <td>NaN</td>\n",
       "      <td>SE18 5TL</td>\n",
       "      <td>29052990</td>\n",
       "    </tr>\n",
       "    <tr>\n",
       "      <th>3</th>\n",
       "      <td>201906</td>\n",
       "      <td>1</td>\n",
       "      <td>FESTIVE PRODUCTIONS LTD</td>\n",
       "      <td>'OTTERS BROOK'</td>\n",
       "      <td>TY COCH WAY</td>\n",
       "      <td>CWMBRAN</td>\n",
       "      <td>NaN</td>\n",
       "      <td>NaN</td>\n",
       "      <td>NP44 7XE</td>\n",
       "      <td>39199080</td>\n",
       "    </tr>\n",
       "    <tr>\n",
       "      <th>4</th>\n",
       "      <td>201906</td>\n",
       "      <td>1</td>\n",
       "      <td>MAHALINGAM PARTHIPAN</td>\n",
       "      <td>04 BEFORD ROAD</td>\n",
       "      <td>EASTHAM</td>\n",
       "      <td>LONDON</td>\n",
       "      <td>NaN</td>\n",
       "      <td>NaN</td>\n",
       "      <td>E6 2NN</td>\n",
       "      <td>3</td>\n",
       "    </tr>\n",
       "  </tbody>\n",
       "</table>\n",
       "</div>"
      ],
      "text/plain": [
       "        0  1                        2                3                   4  \\\n",
       "0  201906  1      MARK PRICE TEXTILES    ''TWO HOOTS''         MELTON ROAD   \n",
       "1  201906  1   PETER GRAHAM WHITEHEAD       'A' HANGAR      SLEAP AIRFIELD   \n",
       "2  201906  1  F D COPELAND & SONS LTD  'COLANOL HOUSE'  5 WESTFIELD STREET   \n",
       "3  201906  1  FESTIVE PRODUCTIONS LTD   'OTTERS BROOK'         TY COCH WAY   \n",
       "4  201906  1     MAHALINGAM PARTHIPAN   04 BEFORD ROAD             EASTHAM   \n",
       "\n",
       "                   5           6    7         8         9  \n",
       "0  HICKLING PASTURES   LEICESTER  NaN  LE14 3QG  58064000  \n",
       "1        HARMER HILL  SHREWSBURY  NaN   SY4 3HE  84812010  \n",
       "2           WOOLWICH      LONDON  NaN  SE18 5TL  29052990  \n",
       "3            CWMBRAN         NaN  NaN  NP44 7XE  39199080  \n",
       "4             LONDON         NaN  NaN    E6 2NN         3  "
      ]
     },
     "execution_count": 3,
     "metadata": {},
     "output_type": "execute_result"
    }
   ],
   "source": [
    "df_modified = df.iloc[:,0:10]\n",
    "df_modified.head()"
   ]
  },
  {
   "cell_type": "markdown",
   "metadata": {},
   "source": [
    "#### Step 2: Save Dataframe to S3 as CSV"
   ]
  },
  {
   "cell_type": "code",
   "execution_count": 4,
   "metadata": {},
   "outputs": [],
   "source": [
    "import pandas as pd \n",
    "\n",
    "csv = df_modified.to_csv('data/importers_mod.txt', index=False)\n"
   ]
  },
  {
   "cell_type": "markdown",
   "metadata": {},
   "source": [
    "#### Step 3: Download CSV to Local machine \n",
    "\n",
    "<img src=\"/templates/demo2s9.png\" alt=\"Drawing\" style=\"width: 400px;\"/>\n",
    "\n",
    "#### Step 4: Check result\n",
    "\n",
    "<img src=\"/templates/demo2s10.png\" alt=\"Drawing\" style=\"width: 800px;\"/>"
   ]
  },
  {
   "cell_type": "code",
   "execution_count": null,
   "metadata": {},
   "outputs": [],
   "source": []
  }
 ],
 "metadata": {
  "kernelspec": {
   "display_name": "Python 3",
   "language": "python",
   "name": "python3"
  },
  "language_info": {
   "codemirror_mode": {
    "name": "ipython",
    "version": 3
   },
   "file_extension": ".py",
   "mimetype": "text/x-python",
   "name": "python",
   "nbconvert_exporter": "python",
   "pygments_lexer": "ipython3",
   "version": "3.6.6"
  }
 },
 "nbformat": 4,
 "nbformat_minor": 2
}
